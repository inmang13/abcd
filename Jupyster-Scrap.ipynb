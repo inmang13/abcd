{
 "cells": [
  {
   "cell_type": "code",
   "execution_count": 14,
   "metadata": {},
   "outputs": [
    {
     "ename": "ModuleNotFoundError",
     "evalue": "No module named 'dataretrieval'",
     "output_type": "error",
     "traceback": [
      "\u001b[1;31m---------------------------------------------------------------------------\u001b[0m",
      "\u001b[1;31mModuleNotFoundError\u001b[0m                       Traceback (most recent call last)",
      "Cell \u001b[1;32mIn[14], line 2\u001b[0m\n\u001b[0;32m      1\u001b[0m \u001b[38;5;28;01mimport\u001b[39;00m \u001b[38;5;21;01mpandas\u001b[39;00m \u001b[38;5;28;01mas\u001b[39;00m \u001b[38;5;21;01mpd\u001b[39;00m\n\u001b[1;32m----> 2\u001b[0m \u001b[38;5;28;01mfrom\u001b[39;00m \u001b[38;5;21;01mdataretrieval\u001b[39;00m \u001b[38;5;28;01mimport\u001b[39;00m nwis\n\u001b[0;32m      4\u001b[0m site_number \u001b[38;5;241m=\u001b[39m \u001b[38;5;124m\"\u001b[39m\u001b[38;5;124m01108000\u001b[39m\u001b[38;5;124m\"\u001b[39m  \u001b[38;5;66;03m# Replace with your site number\u001b[39;00m\n\u001b[0;32m      5\u001b[0m start_date \u001b[38;5;241m=\u001b[39m \u001b[38;5;124m\"\u001b[39m\u001b[38;5;124m2024-01-01\u001b[39m\u001b[38;5;124m\"\u001b[39m          \u001b[38;5;66;03m# Replace with your start date\u001b[39;00m\n",
      "\u001b[1;31mModuleNotFoundError\u001b[0m: No module named 'dataretrieval'"
     ]
    }
   ],
   "source": [
    "import pandas as pd\n",
    "from dataretrieval import nwis\n",
    "\n",
    "site_number = \"01108000\"  # Replace with your site number\n",
    "start_date = \"2024-01-01\"          # Replace with your start date\n",
    "end_date = \"2024-01-31\" \n",
    "\n",
    "\n",
    "\n",
    "nwis.get_dv(\n",
    "            sites=site_number,\n",
    "            parameterCd=\"00060\",\n",
    "            statCd=\"00003\",\n",
    "            start=start_date,\n",
    "            end=end_date,\n",
    "        )\n",
    " "
   ]
  },
  {
   "cell_type": "code",
   "execution_count": 12,
   "metadata": {},
   "outputs": [
    {
     "name": "stdout",
     "output_type": "stream",
     "text": [
      "https://nwis.waterservices.usgs.gov/nwis/iv?sites=01108000&startDT=2024-01-01T00%3A00%3A00.000-05%3A00&endDT=2024-01-31T23%3A59%3A59.999-05%3A00&parameterCd=00060&format=rdb&tz=UTC\n",
      "https://nwis.waterservices.usgs.gov/nwis/iv/?sites=01108000&startDT=2017-01-01T00:00:00.000-05:00&endDT=2017-01-02T23:59:59.999-05:00&parameterCd=00060&format=rdb\n"
     ]
    }
   ],
   "source": [
    "full_url = f\"{url}?{requests.compat.urlencode(params)}\"\n",
    "print(full_url)\n",
    "print('https://nwis.waterservices.usgs.gov/nwis/iv/?sites=01108000&startDT=2017-01-01T00:00:00.000-05:00&endDT=2017-01-02T23:59:59.999-05:00&parameterCd=00060&format=rdb')"
   ]
  }
 ],
 "metadata": {
  "kernelspec": {
   "display_name": "Python 3.8.20 ('abcd')",
   "language": "python",
   "name": "python3"
  },
  "language_info": {
   "codemirror_mode": {
    "name": "ipython",
    "version": 3
   },
   "file_extension": ".py",
   "mimetype": "text/x-python",
   "name": "python",
   "nbconvert_exporter": "python",
   "pygments_lexer": "ipython3",
   "version": "3.8.20"
  },
  "orig_nbformat": 4,
  "vscode": {
   "interpreter": {
    "hash": "b6624729d6c7fa59d45fc182328d94bcf5e0483b15be544637864ddd4f6b31ed"
   }
  }
 },
 "nbformat": 4,
 "nbformat_minor": 2
}
